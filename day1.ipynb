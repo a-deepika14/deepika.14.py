{
  "nbformat": 4,
  "nbformat_minor": 0,
  "metadata": {
    "colab": {
      "name": "day1",
      "provenance": [],
      "authorship_tag": "ABX9TyN400Dec7EMToYd113ixbax",
      "include_colab_link": true
    },
    "kernelspec": {
      "name": "python3",
      "display_name": "Python 3"
    },
    "language_info": {
      "name": "python"
    }
  },
  "cells": [
    {
      "cell_type": "markdown",
      "metadata": {
        "id": "view-in-github",
        "colab_type": "text"
      },
      "source": [
        "<a href=\"https://colab.research.google.com/github/a-deepika14/deepika.14.py/blob/main/day1.ipynb\" target=\"_parent\"><img src=\"https://colab.research.google.com/assets/colab-badge.svg\" alt=\"Open In Colab\"/></a>"
      ]
    },
    {
      "cell_type": "code",
      "metadata": {
        "colab": {
          "base_uri": "https://localhost:8080/"
        },
        "id": "NK6iBEZsPABq",
        "outputId": "f2244426-a7b4-4d32-e933-34171d2040e6"
      },
      "source": [
        "#REVERSE A LIST\n",
        "x=[int (i) for i in input(\"enter values: \").split()]\n",
        "print(x)\n",
        "x.sort(reverse=True)\n",
        "print(x)"
      ],
      "execution_count": 3,
      "outputs": [
        {
          "output_type": "stream",
          "text": [
            "enter values: 22 33 44 55\n",
            "[22, 33, 44, 55]\n",
            "[55, 44, 33, 22]\n"
          ],
          "name": "stdout"
        }
      ]
    }
  ]
}