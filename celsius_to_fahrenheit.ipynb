{
  "nbformat": 4,
  "nbformat_minor": 0,
  "metadata": {
    "colab": {
      "name": "celsius to fahrenheit",
      "provenance": [],
      "authorship_tag": "ABX9TyO4kwsUzfF40g0iLDx1ZYay",
      "include_colab_link": true
    },
    "kernelspec": {
      "name": "python3",
      "display_name": "Python 3"
    },
    "language_info": {
      "name": "python"
    }
  },
  "cells": [
    {
      "cell_type": "markdown",
      "metadata": {
        "id": "view-in-github",
        "colab_type": "text"
      },
      "source": [
        "<a href=\"https://colab.research.google.com/github/a-deepika14/deepika.14.py/blob/main/celsius_to_fahrenheit.ipynb\" target=\"_parent\"><img src=\"https://colab.research.google.com/assets/colab-badge.svg\" alt=\"Open In Colab\"/></a>"
      ]
    },
    {
      "cell_type": "code",
      "metadata": {
        "colab": {
          "base_uri": "https://localhost:8080/"
        },
        "id": "cUjp-hcGS609",
        "outputId": "e2aee8fe-1abe-47db-e609-c27c42201080"
      },
      "source": [
        "celsius = float(input('Enter temperature in Celsius: '))  \n",
        "   \n",
        "fahrenheit = (celsius * 1.8) + 32  \n",
        "print('%0.1f  Celsius is equal to %0.1f degree Fahrenheit'%(celsius,fahrenheit))"
      ],
      "execution_count": 1,
      "outputs": [
        {
          "output_type": "stream",
          "text": [
            "Enter temperature in Celsius: 100\n",
            "100.0  Celsius is equal to 212.0 degree Fahrenheit\n"
          ],
          "name": "stdout"
        }
      ]
    }
  ]
}