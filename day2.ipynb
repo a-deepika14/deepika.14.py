{
  "nbformat": 4,
  "nbformat_minor": 0,
  "metadata": {
    "colab": {
      "name": "day2",
      "provenance": [],
      "authorship_tag": "ABX9TyMuNW/IoZNuJkBO+RDp7yC+",
      "include_colab_link": true
    },
    "kernelspec": {
      "name": "python3",
      "display_name": "Python 3"
    },
    "language_info": {
      "name": "python"
    }
  },
  "cells": [
    {
      "cell_type": "markdown",
      "metadata": {
        "id": "view-in-github",
        "colab_type": "text"
      },
      "source": [
        "<a href=\"https://colab.research.google.com/github/a-deepika14/deepika.14.py/blob/main/day2.ipynb\" target=\"_parent\"><img src=\"https://colab.research.google.com/assets/colab-badge.svg\" alt=\"Open In Colab\"/></a>"
      ]
    },
    {
      "cell_type": "code",
      "metadata": {
        "colab": {
          "base_uri": "https://localhost:8080/"
        },
        "id": "NJlm_kStRHvL",
        "outputId": "faeef141-9285-4bf5-b28b-4fc84ee3b5fd"
      },
      "source": [
        "#DAY 2 ASSIGNMENT\n",
        "#to remove all the occurenece of an elemnt in a list\n",
        "li=[1,2,3,3,4]\n",
        "print(li)\n",
        "list(filter(lambda a:a!=3,li))\n"
      ],
      "execution_count": 3,
      "outputs": [
        {
          "output_type": "stream",
          "text": [
            "[1, 2, 3, 3, 4]\n"
          ],
          "name": "stdout"
        },
        {
          "output_type": "execute_result",
          "data": {
            "text/plain": [
              "[1, 2, 4]"
            ]
          },
          "metadata": {
            "tags": []
          },
          "execution_count": 3
        }
      ]
    },
    {
      "cell_type": "code",
      "metadata": {
        "colab": {
          "base_uri": "https://localhost:8080/"
        },
        "id": "sAOVxDiiRzww",
        "outputId": "722747e5-bb7c-4b33-d625-b6b474686321"
      },
      "source": [
        "#PROJECT :TO GENERATE A OTP\n",
        "import random\n",
        "import string\n",
        "length= 8\n",
        "otp= ''\n",
        "characters = string.ascii_letters+ string.digits\n",
        "for i in range(length):\n",
        "  otp = otp + random.choice(characters)\n",
        "print('OTP',otp)"
      ],
      "execution_count": 4,
      "outputs": [
        {
          "output_type": "stream",
          "text": [
            "OTP MJHS66Lw\n"
          ],
          "name": "stdout"
        }
      ]
    },
    {
      "cell_type": "markdown",
      "metadata": {
        "id": "n-N_HYwcRzMk"
      },
      "source": [
        ""
      ]
    }
  ]
}